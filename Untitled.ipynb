{
 "cells": [
  {
   "cell_type": "code",
   "execution_count": 19,
   "metadata": {},
   "outputs": [
    {
     "name": "stdout",
     "output_type": "stream",
     "text": [
      "IPython console for SymPy 1.0 (Python 2.7.11-64-bit) (ground types: python)\n"
     ]
    },
    {
     "data": {
      "image/png": "[encoded data removed]",
      "text/latex": [
       "$$\\operatorname{B_{1}}{\\left (\\delta \\right )}$$"
      ],
      "text/plain": [
       "B₁(δ)"
      ]
     },
     "metadata": {},
     "output_type": "display_data"
    },
    {
     "data": {
      "image/png": "[encoded data removed]",
      "text/latex": [
       "$$\\delta \\frac{d}{d \\delta} \\operatorname{B_{1}}{\\left (\\delta \\right )} + \\operatorname{B_{1}}^{2}{\\left (\\delta \\right )} - \\operatorname{B_{1}}{\\left (\\delta \\right )}$$"
      ],
      "text/plain": [
       "  d             2           \n",
       "δ⋅──(B₁(δ)) + B₁ (δ) - B₁(δ)\n",
       "  dδ                        "
      ]
     },
     "metadata": {},
     "output_type": "display_data"
    },
    {
     "data": {
      "image/png": "[encoded data removed]",
      "text/latex": [
       "$$\\delta^{2} \\frac{d^{2}}{d \\delta^{2}}  \\operatorname{B_{1}}{\\left (\\delta \\right )} + 3 \\delta \\operatorname{B_{1}}{\\left (\\delta \\right )} \\frac{d}{d \\delta} \\operatorname{B_{1}}{\\left (\\delta \\right )} - 2 \\delta \\frac{d}{d \\delta} \\operatorname{B_{1}}{\\left (\\delta \\right )} + \\operatorname{B_{1}}^{3}{\\left (\\delta \\right )} - 3 \\operatorname{B_{1}}^{2}{\\left (\\delta \\right )} + 2 \\operatorname{B_{1}}{\\left (\\delta \\right )}$$"
      ],
      "text/plain": [
       "     2                                                                        \n",
       " 2  d                     d               d             3          2          \n",
       "δ ⋅───(B₁(δ)) + 3⋅δ⋅B₁(δ)⋅──(B₁(δ)) - 2⋅δ⋅──(B₁(δ)) + B₁ (δ) - 3⋅B₁ (δ) + 2⋅B₁\n",
       "     2                    dδ              dδ                                  \n",
       "   dδ                                                                         \n",
       "\n",
       "   \n",
       "   \n",
       "(δ)\n",
       "   \n",
       "   "
      ]
     },
     "metadata": {},
     "output_type": "display_data"
    },
    {
     "data": {
      "image/png": "[encoded data removed]",
      "text/latex": [
       "$$\\delta^{3} \\frac{d^{3}}{d \\delta^{3}}  \\operatorname{B_{1}}{\\left (\\delta \\right )} + 4 \\delta^{2} \\operatorname{B_{1}}{\\left (\\delta \\right )} \\frac{d^{2}}{d \\delta^{2}}  \\operatorname{B_{1}}{\\left (\\delta \\right )} + 3 \\delta^{2} \\frac{d}{d \\delta} \\operatorname{B_{1}}{\\left (\\delta \\right )}^{2} - 3 \\delta^{2} \\frac{d^{2}}{d \\delta^{2}}  \\operatorname{B_{1}}{\\left (\\delta \\right )} + 6 \\delta \\operatorname{B_{1}}^{2}{\\left (\\delta \\right )} \\frac{d}{d \\delta} \\operatorname{B_{1}}{\\left (\\delta \\right )} - 14 \\delta \\operatorname{B_{1}}{\\left (\\delta \\right )} \\frac{d}{d \\delta} \\operatorname{B_{1}}{\\left (\\delta \\right )} + 6 \\delta \\frac{d}{d \\delta} \\operatorname{B_{1}}{\\left (\\delta \\right )} + \\operatorname{B_{1}}^{4}{\\left (\\delta \\right )} - 6 \\operatorname{B_{1}}^{3}{\\left (\\delta \\right )} + 11 \\operatorname{B_{1}}^{2}{\\left (\\delta \\right )} - 6 \\operatorname{B_{1}}{\\left (\\delta \\right )}$$"
      ],
      "text/plain": [
       "     3                       2                          2          2          \n",
       " 3  d              2        d              2 ⎛d        ⎞       2  d           \n",
       "δ ⋅───(B₁(δ)) + 4⋅δ ⋅B₁(δ)⋅───(B₁(δ)) + 3⋅δ ⋅⎜──(B₁(δ))⎟  - 3⋅δ ⋅───(B₁(δ)) + \n",
       "     3                       2               ⎝dδ       ⎠           2          \n",
       "   dδ                      dδ                                    dδ           \n",
       "\n",
       "                                                                              \n",
       "      2    d                      d               d             4          3  \n",
       "6⋅δ⋅B₁ (δ)⋅──(B₁(δ)) - 14⋅δ⋅B₁(δ)⋅──(B₁(δ)) + 6⋅δ⋅──(B₁(δ)) + B₁ (δ) - 6⋅B₁ (δ\n",
       "           dδ                     dδ              dδ                          \n",
       "                                                                              \n",
       "\n",
       "                       \n",
       "         2             \n",
       ") + 11⋅B₁ (δ) - 6⋅B₁(δ)\n",
       "                       \n",
       "                       "
      ]
     },
     "metadata": {},
     "output_type": "display_data"
    },
    {
     "data": {
      "image/png": "[encoded data removed]",
      "text/latex": [
       "$$\\delta \\frac{d^{2}}{d \\delta^{2}}  u{\\left (\\delta \\right )} + \\frac{d}{d \\delta} u{\\left (\\delta \\right )}$$"
      ],
      "text/plain": [
       "    2                 \n",
       "   d          d       \n",
       "δ⋅───(u(δ)) + ──(u(δ))\n",
       "    2         dδ      \n",
       "  dδ                  "
      ]
     },
     "metadata": {},
     "output_type": "display_data"
    },
    {
     "data": {
      "image/png": "[encoded data removed]",
      "text/latex": [
       "$$\\delta \\frac{d^{3}}{d \\delta^{3}}  u{\\left (\\delta \\right )} + 2 \\frac{d^{2}}{d \\delta^{2}}  u{\\left (\\delta \\right )}$$"
      ],
      "text/plain": [
       "    3             2      \n",
       "   d             d       \n",
       "δ⋅───(u(δ)) + 2⋅───(u(δ))\n",
       "    3             2      \n",
       "  dδ            dδ       "
      ]
     },
     "metadata": {},
     "output_type": "display_data"
    },
    {
     "data": {
      "image/png": "[encoded data removed]",
      "text/latex": [
       "$$\\delta \\frac{d^{4}}{d \\delta^{4}}  u{\\left (\\delta \\right )} + 3 \\frac{d^{3}}{d \\delta^{3}}  u{\\left (\\delta \\right )}$$"
      ],
      "text/plain": [
       "    4             3      \n",
       "   d             d       \n",
       "δ⋅───(u(δ)) + 3⋅───(u(δ))\n",
       "    4             3      \n",
       "  dδ            dδ       "
      ]
     },
     "metadata": {},
     "output_type": "display_data"
    },
    {
     "data": {
      "image/png": "[encoded data removed]",
      "text/latex": [
       "$$\\delta \\frac{d^{5}}{d \\delta^{5}}  u{\\left (\\delta \\right )} + 4 \\frac{d^{4}}{d \\delta^{4}}  u{\\left (\\delta \\right )}$$"
      ],
      "text/plain": [
       "    5             4      \n",
       "   d             d       \n",
       "δ⋅───(u(δ)) + 4⋅───(u(δ))\n",
       "    5             4      \n",
       "  dδ            dδ       "
      ]
     },
     "metadata": {},
     "output_type": "display_data"
    }
   ],
   "source": [
    "from sympy import *\n",
    "init_session(quiet = True)\n",
    "\n",
    "delta, d_k = symbols(\"delta,d_k\")\n",
    "B1 = symbols(\"B1\", cls=Function)(delta)\n",
    "#u = symbols(\"u\", cls=Function)(delta)\n",
    "#B1 = delta*diff(u,delta) + d_k\n",
    "\n",
    "B2 = delta*diff(B1, delta) + (B1-1)*B1\n",
    "B3 = delta*diff(B2, delta) + (B1-2)*B2\n",
    "B4 = delta*diff(B3, delta) + (B1-3)*B3\n",
    "display(simplify(expand(B1)))\n",
    "display(simplify(expand(B2)))\n",
    "display(simplify(expand(B3)))\n",
    "display(simplify(expand(B4)))\n",
    "\n",
    "B1 = delta*diff(u,delta) + d_k\n",
    "display(simplify(diff(B1,delta,1)))\n",
    "display(simplify(diff(B1,delta,2)))\n",
    "display(simplify(diff(B1,delta,3)))\n",
    "display(simplify(diff(B1,delta,4)))"
   ]
  },
  {
   "cell_type": "code",
   "execution_count": null,
   "metadata": {
    "collapsed": true
   },
   "outputs": [],
   "source": []
  }
 ],
 "metadata": {
  "kernelspec": {
   "display_name": "Python 2",
   "language": "python",
   "name": "python2"
  },
  "language_info": {
   "codemirror_mode": {
    "name": "ipython",
    "version": 2
   },
   "file_extension": ".py",
   "mimetype": "text/x-python",
   "name": "python",
   "nbconvert_exporter": "python",
   "pygments_lexer": "ipython2",
   "version": "2.7.11"
  }
 },
 "nbformat": 4,
 "nbformat_minor": 1
}
